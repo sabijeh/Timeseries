{
 "cells": [
  {
   "cell_type": "code",
   "execution_count": 1,
   "id": "52701155",
   "metadata": {
    "ExecuteTime": {
     "end_time": "2024-06-09T23:15:12.091992Z",
     "start_time": "2024-06-09T23:15:09.474756Z"
    }
   },
   "outputs": [],
   "source": [
    "import pandas as pd\n",
    "import numpy as np\n",
    "\n",
    "import seaborn as sns\n",
    "from matplotlib import pyplot as plt\n",
    "from sklearn.metrics import mean_squared_error\n",
    "%matplotlib inline\n",
    "import warnings\n",
    "warnings.filterwarnings('ignore')\n",
    "warnings.simplefilter('ignore')"
   ]
  },
  {
   "cell_type": "code",
   "execution_count": 2,
   "id": "941a7bb6",
   "metadata": {
    "ExecuteTime": {
     "end_time": "2024-06-09T23:15:12.107206Z",
     "start_time": "2024-06-09T23:15:12.094028Z"
    }
   },
   "outputs": [],
   "source": [
    "df = pd.read_csv('demand.csv')"
   ]
  },
  {
   "cell_type": "code",
   "execution_count": 3,
   "id": "64884e4e",
   "metadata": {
    "ExecuteTime": {
     "end_time": "2024-06-09T23:15:12.138740Z",
     "start_time": "2024-06-09T23:15:12.109722Z"
    },
    "scrolled": true
   },
   "outputs": [
    {
     "data": {
      "text/html": [
       "<div>\n",
       "<style scoped>\n",
       "    .dataframe tbody tr th:only-of-type {\n",
       "        vertical-align: middle;\n",
       "    }\n",
       "\n",
       "    .dataframe tbody tr th {\n",
       "        vertical-align: top;\n",
       "    }\n",
       "\n",
       "    .dataframe thead th {\n",
       "        text-align: right;\n",
       "    }\n",
       "</style>\n",
       "<table border=\"1\" class=\"dataframe\">\n",
       "  <thead>\n",
       "    <tr style=\"text-align: right;\">\n",
       "      <th></th>\n",
       "      <th>Unnamed: 0</th>\n",
       "      <th>Demand</th>\n",
       "    </tr>\n",
       "  </thead>\n",
       "  <tbody>\n",
       "    <tr>\n",
       "      <th>0</th>\n",
       "      <td>2002-01-31</td>\n",
       "      <td>52.0</td>\n",
       "    </tr>\n",
       "    <tr>\n",
       "      <th>1</th>\n",
       "      <td>2002-02-28</td>\n",
       "      <td>37.0</td>\n",
       "    </tr>\n",
       "    <tr>\n",
       "      <th>2</th>\n",
       "      <td>2002-03-31</td>\n",
       "      <td>48.0</td>\n",
       "    </tr>\n",
       "    <tr>\n",
       "      <th>3</th>\n",
       "      <td>2002-04-30</td>\n",
       "      <td>56.0</td>\n",
       "    </tr>\n",
       "    <tr>\n",
       "      <th>4</th>\n",
       "      <td>2002-05-31</td>\n",
       "      <td>49.0</td>\n",
       "    </tr>\n",
       "  </tbody>\n",
       "</table>\n",
       "</div>"
      ],
      "text/plain": [
       "   Unnamed: 0  Demand\n",
       "0  2002-01-31    52.0\n",
       "1  2002-02-28    37.0\n",
       "2  2002-03-31    48.0\n",
       "3  2002-04-30    56.0\n",
       "4  2002-05-31    49.0"
      ]
     },
     "execution_count": 3,
     "metadata": {},
     "output_type": "execute_result"
    }
   ],
   "source": [
    "df.head()"
   ]
  },
  {
   "cell_type": "code",
   "execution_count": 4,
   "id": "3fbc7fcc",
   "metadata": {
    "ExecuteTime": {
     "end_time": "2024-06-09T23:15:12.153938Z",
     "start_time": "2024-06-09T23:15:12.142037Z"
    }
   },
   "outputs": [],
   "source": [
    "df = df.rename(columns={'Unnamed: 0':'Date'})"
   ]
  },
  {
   "cell_type": "code",
   "execution_count": 5,
   "id": "f130a152",
   "metadata": {
    "ExecuteTime": {
     "end_time": "2024-06-09T23:15:12.169563Z",
     "start_time": "2024-06-09T23:15:12.156159Z"
    }
   },
   "outputs": [],
   "source": [
    "df = df.set_index('Date')"
   ]
  },
  {
   "cell_type": "code",
   "execution_count": 6,
   "id": "c59f2d65",
   "metadata": {
    "ExecuteTime": {
     "end_time": "2024-06-09T23:15:12.201058Z",
     "start_time": "2024-06-09T23:15:12.171732Z"
    }
   },
   "outputs": [
    {
     "data": {
      "text/html": [
       "<div>\n",
       "<style scoped>\n",
       "    .dataframe tbody tr th:only-of-type {\n",
       "        vertical-align: middle;\n",
       "    }\n",
       "\n",
       "    .dataframe tbody tr th {\n",
       "        vertical-align: top;\n",
       "    }\n",
       "\n",
       "    .dataframe thead th {\n",
       "        text-align: right;\n",
       "    }\n",
       "</style>\n",
       "<table border=\"1\" class=\"dataframe\">\n",
       "  <thead>\n",
       "    <tr style=\"text-align: right;\">\n",
       "      <th></th>\n",
       "      <th>count</th>\n",
       "      <th>mean</th>\n",
       "      <th>std</th>\n",
       "      <th>min</th>\n",
       "      <th>25%</th>\n",
       "      <th>50%</th>\n",
       "      <th>75%</th>\n",
       "      <th>max</th>\n",
       "    </tr>\n",
       "  </thead>\n",
       "  <tbody>\n",
       "    <tr>\n",
       "      <th>Demand</th>\n",
       "      <td>228.0</td>\n",
       "      <td>43.850877</td>\n",
       "      <td>7.122258</td>\n",
       "      <td>16.0</td>\n",
       "      <td>39.0</td>\n",
       "      <td>44.0</td>\n",
       "      <td>49.0</td>\n",
       "      <td>60.0</td>\n",
       "    </tr>\n",
       "  </tbody>\n",
       "</table>\n",
       "</div>"
      ],
      "text/plain": [
       "        count       mean       std   min   25%   50%   75%   max\n",
       "Demand  228.0  43.850877  7.122258  16.0  39.0  44.0  49.0  60.0"
      ]
     },
     "execution_count": 6,
     "metadata": {},
     "output_type": "execute_result"
    }
   ],
   "source": [
    "df.describe().T"
   ]
  },
  {
   "cell_type": "code",
   "execution_count": 7,
   "id": "c31cd568",
   "metadata": {
    "ExecuteTime": {
     "end_time": "2024-06-09T23:15:12.217051Z",
     "start_time": "2024-06-09T23:15:12.202588Z"
    }
   },
   "outputs": [
    {
     "data": {
      "text/plain": [
       "(228, 1)"
      ]
     },
     "execution_count": 7,
     "metadata": {},
     "output_type": "execute_result"
    }
   ],
   "source": [
    "df.shape"
   ]
  },
  {
   "cell_type": "code",
   "execution_count": 8,
   "id": "bc5c8d3d",
   "metadata": {
    "ExecuteTime": {
     "end_time": "2024-06-09T23:15:12.232693Z",
     "start_time": "2024-06-09T23:15:12.218375Z"
    }
   },
   "outputs": [
    {
     "data": {
      "text/plain": [
       "Demand    float64\n",
       "dtype: object"
      ]
     },
     "execution_count": 8,
     "metadata": {},
     "output_type": "execute_result"
    }
   ],
   "source": [
    "df.dtypes"
   ]
  },
  {
   "cell_type": "code",
   "execution_count": 9,
   "id": "97592847",
   "metadata": {
    "ExecuteTime": {
     "end_time": "2024-06-09T23:15:12.263200Z",
     "start_time": "2024-06-09T23:15:12.235870Z"
    }
   },
   "outputs": [
    {
     "name": "stdout",
     "output_type": "stream",
     "text": [
      "<class 'pandas.core.frame.DataFrame'>\n",
      "Index: 228 entries, 2002-01-31 to 2020-12-31\n",
      "Data columns (total 1 columns):\n",
      " #   Column  Non-Null Count  Dtype  \n",
      "---  ------  --------------  -----  \n",
      " 0   Demand  228 non-null    float64\n",
      "dtypes: float64(1)\n",
      "memory usage: 3.6+ KB\n"
     ]
    }
   ],
   "source": [
    "df.info()"
   ]
  },
  {
   "cell_type": "code",
   "execution_count": 10,
   "id": "be1a91ec",
   "metadata": {
    "ExecuteTime": {
     "end_time": "2024-06-09T23:15:12.279314Z",
     "start_time": "2024-06-09T23:15:12.267725Z"
    }
   },
   "outputs": [
    {
     "data": {
      "text/plain": [
       "Demand    0\n",
       "dtype: int64"
      ]
     },
     "execution_count": 10,
     "metadata": {},
     "output_type": "execute_result"
    }
   ],
   "source": [
    "df.isnull().sum()"
   ]
  },
  {
   "cell_type": "code",
   "execution_count": 11,
   "id": "358c8e99",
   "metadata": {
    "ExecuteTime": {
     "end_time": "2024-06-09T23:15:12.294986Z",
     "start_time": "2024-06-09T23:15:12.283192Z"
    }
   },
   "outputs": [
    {
     "data": {
      "text/html": [
       "<div>\n",
       "<style scoped>\n",
       "    .dataframe tbody tr th:only-of-type {\n",
       "        vertical-align: middle;\n",
       "    }\n",
       "\n",
       "    .dataframe tbody tr th {\n",
       "        vertical-align: top;\n",
       "    }\n",
       "\n",
       "    .dataframe thead th {\n",
       "        text-align: right;\n",
       "    }\n",
       "</style>\n",
       "<table border=\"1\" class=\"dataframe\">\n",
       "  <thead>\n",
       "    <tr style=\"text-align: right;\">\n",
       "      <th></th>\n",
       "      <th>Demand</th>\n",
       "    </tr>\n",
       "    <tr>\n",
       "      <th>Date</th>\n",
       "      <th></th>\n",
       "    </tr>\n",
       "  </thead>\n",
       "  <tbody>\n",
       "    <tr>\n",
       "      <th>2002-01-31</th>\n",
       "      <td>52.0</td>\n",
       "    </tr>\n",
       "    <tr>\n",
       "      <th>2002-02-28</th>\n",
       "      <td>37.0</td>\n",
       "    </tr>\n",
       "    <tr>\n",
       "      <th>2002-03-31</th>\n",
       "      <td>48.0</td>\n",
       "    </tr>\n",
       "    <tr>\n",
       "      <th>2002-04-30</th>\n",
       "      <td>56.0</td>\n",
       "    </tr>\n",
       "    <tr>\n",
       "      <th>2002-05-31</th>\n",
       "      <td>49.0</td>\n",
       "    </tr>\n",
       "  </tbody>\n",
       "</table>\n",
       "</div>"
      ],
      "text/plain": [
       "            Demand\n",
       "Date              \n",
       "2002-01-31    52.0\n",
       "2002-02-28    37.0\n",
       "2002-03-31    48.0\n",
       "2002-04-30    56.0\n",
       "2002-05-31    49.0"
      ]
     },
     "execution_count": 11,
     "metadata": {},
     "output_type": "execute_result"
    }
   ],
   "source": [
    "df.head()"
   ]
  },
  {
   "cell_type": "code",
   "execution_count": 12,
   "id": "1eea85db",
   "metadata": {
    "ExecuteTime": {
     "end_time": "2024-06-09T23:15:12.326100Z",
     "start_time": "2024-06-09T23:15:12.298452Z"
    }
   },
   "outputs": [
    {
     "name": "stdout",
     "output_type": "stream",
     "text": [
      "<class 'pandas.core.frame.DataFrame'>\n",
      "Index: 228 entries, 2002-01-31 to 2020-12-31\n",
      "Data columns (total 1 columns):\n",
      " #   Column  Non-Null Count  Dtype  \n",
      "---  ------  --------------  -----  \n",
      " 0   Demand  228 non-null    float64\n",
      "dtypes: float64(1)\n",
      "memory usage: 3.6+ KB\n"
     ]
    }
   ],
   "source": [
    "df.info()"
   ]
  },
  {
   "cell_type": "code",
   "execution_count": 13,
   "id": "240d30e6",
   "metadata": {
    "ExecuteTime": {
     "end_time": "2024-06-09T23:15:12.543397Z",
     "start_time": "2024-06-09T23:15:12.328140Z"
    }
   },
   "outputs": [
    {
     "data": {
      "image/png": "[encoded data removed]",
      "text/plain": [
       "<Figure size 648x648 with 2 Axes>"
      ]
     },
     "metadata": {
      "needs_background": "light"
     },
     "output_type": "display_data"
    }
   ],
   "source": [
    "plt.figure(figsize=(9,9))\n",
    "sns.heatmap(df.corr(),annot=True)\n",
    "plt.show()"
   ]
  },
  {
   "cell_type": "code",
   "execution_count": 14,
   "id": "4eba390c",
   "metadata": {
    "ExecuteTime": {
     "end_time": "2024-06-09T23:15:12.806806Z",
     "start_time": "2024-06-09T23:15:12.544876Z"
    }
   },
   "outputs": [],
   "source": [
    "from statsmodels.tsa.arima.model import ARIMA\n",
    "from statsmodels.tsa.seasonal import seasonal_decompose\n",
    "from statsmodels.tsa.stattools import adfuller"
   ]
  },
  {
   "cell_type": "code",
   "execution_count": 15,
   "id": "9e04b3ba",
   "metadata": {
    "ExecuteTime": {
     "end_time": "2024-06-09T23:15:12.948129Z",
     "start_time": "2024-06-09T23:15:12.808111Z"
    }
   },
   "outputs": [
    {
     "data": {
      "image/png": "[encoded data removed]",
      "text/plain": [
       "<Figure size 432x288 with 1 Axes>"
      ]
     },
     "metadata": {
      "needs_background": "light"
     },
     "output_type": "display_data"
    }
   ],
   "source": [
    "df.plot(title='Time Series Data')\n",
    "plt.show()"
   ]
  },
  {
   "cell_type": "markdown",
   "id": "cab0dcaf",
   "metadata": {},
   "source": [
    "## Time Series Decomposition\n",
    "Decompose the time series into trend, seasonal, and residual components."
   ]
  },
  {
   "cell_type": "code",
   "execution_count": 16,
   "id": "e7a126ed",
   "metadata": {
    "ExecuteTime": {
     "end_time": "2024-06-09T23:15:12.963340Z",
     "start_time": "2024-06-09T23:15:12.949576Z"
    }
   },
   "outputs": [
    {
     "data": {
      "text/plain": [
       "DatetimeIndex(['2002-01-31', '2002-02-28', '2002-03-31', '2002-04-30',\n",
       "               '2002-05-31', '2002-06-30', '2002-07-31', '2002-08-31',\n",
       "               '2002-09-30', '2002-10-31',\n",
       "               ...\n",
       "               '2020-03-31', '2020-04-30', '2020-05-31', '2020-06-30',\n",
       "               '2020-07-31', '2020-08-31', '2020-09-30', '2020-10-31',\n",
       "               '2020-11-30', '2020-12-31'],\n",
       "              dtype='datetime64[ns]', name='Date', length=228, freq=None)"
      ]
     },
     "execution_count": 16,
     "metadata": {},
     "output_type": "execute_result"
    }
   ],
   "source": [
    "df.index = pd.to_datetime(df.index)\n",
    "df.index"
   ]
  },
  {
   "cell_type": "code",
   "execution_count": 17,
   "id": "07c0b7ca",
   "metadata": {
    "ExecuteTime": {
     "end_time": "2024-06-09T23:15:13.477512Z",
     "start_time": "2024-06-09T23:15:12.965635Z"
    }
   },
   "outputs": [
    {
     "data": {
      "text/plain": [
       "<Figure size 864x576 with 0 Axes>"
      ]
     },
     "metadata": {},
     "output_type": "display_data"
    },
    {
     "data": {
      "image/png": "[encoded data removed]",
      "text/plain": [
       "<Figure size 432x288 with 4 Axes>"
      ]
     },
     "metadata": {
      "needs_background": "light"
     },
     "output_type": "display_data"
    }
   ],
   "source": [
    "plt.figure(figsize = (12,8))\n",
    "\n",
    "# Decompose the time series data\n",
    "decomposition = seasonal_decompose(df, model='additive')\n",
    "\n",
    "# Plot the decomposed components\n",
    "decomposition.plot()\n",
    "plt.show()"
   ]
  },
  {
   "cell_type": "markdown",
   "id": "8a614e63",
   "metadata": {},
   "source": [
    "## Test for Stationarity\n",
    "Use the Augmented Dickey-Fuller (ADF) test to determine if the time series is stationary."
   ]
  },
  {
   "cell_type": "markdown",
   "id": "0b13fbee",
   "metadata": {
    "ExecuteTime": {
     "end_time": "2024-05-26T22:51:33.466815Z",
     "start_time": "2024-05-26T22:51:33.436308Z"
    },
    "scrolled": true
   },
   "source": [
    "# Perform the Augmented Dickey-Fuller test\n",
    "result = adfuller(df)\n",
    "\n",
    "print('ADF Statistic:', result[0])\n",
    "print('p-value:', result[1])\n",
    "if result[1] <= 0.05:\n",
    "    print(\"The time series is stationary\")\n",
    "else:\n",
    "    print(\"The time series is not stationary\")"
   ]
  },
  {
   "cell_type": "markdown",
   "id": "5a567ed0",
   "metadata": {},
   "source": [
    "## Differencing:\n",
    "Differencing involves computing the difference between consecutive observations in the time series. This can remove trends or seasonal patterns, making the data stationary."
   ]
  },
  {
   "cell_type": "markdown",
   "id": "f9deb4d3",
   "metadata": {
    "ExecuteTime": {
     "end_time": "2024-05-22T14:27:56.939344Z",
     "start_time": "2024-05-22T14:27:56.927810Z"
    }
   },
   "source": [
    "df_diff = df.diff().dropna()"
   ]
  },
  {
   "cell_type": "markdown",
   "id": "bd867100",
   "metadata": {
    "ExecuteTime": {
     "end_time": "2024-05-22T14:27:57.326874Z",
     "start_time": "2024-05-22T14:27:57.051885Z"
    }
   },
   "source": [
    "# Perform the Augmented Dickey-Fuller test\n",
    "result = adfuller(df_diff)\n",
    "\n",
    "print('ADF Statistic:', result[0])\n",
    "print('p-value:', result[1])\n",
    "if result[1] <= 0.05:\n",
    "    print(\"The time series is stationary\")\n",
    "else:\n",
    "    print(\"The time series is not stationary\")"
   ]
  },
  {
   "cell_type": "markdown",
   "id": "3bf289f6",
   "metadata": {},
   "source": [
    "## Transformation:\n",
    "Transformation techniques such as logarithmic transformation or square root transformation can stabilize the variance in the data, making it more stationary."
   ]
  },
  {
   "cell_type": "markdown",
   "id": "309e038b",
   "metadata": {
    "ExecuteTime": {
     "end_time": "2024-05-22T14:27:58.022594Z",
     "start_time": "2024-05-22T14:27:58.011436Z"
    }
   },
   "source": [
    "df_tf = np.log(df).dropna()"
   ]
  },
  {
   "cell_type": "markdown",
   "id": "6c21e713",
   "metadata": {
    "ExecuteTime": {
     "end_time": "2024-05-22T14:27:58.853075Z",
     "start_time": "2024-05-22T14:27:58.631794Z"
    }
   },
   "source": [
    "# Perform the Augmented Dickey-Fuller test\n",
    "result = adfuller(df_tf)\n",
    "\n",
    "print('ADF Statistic:', result[0])\n",
    "print('p-value:', result[1])\n",
    "if result[1] <= 0.05:\n",
    "    print(\"The time series is stationary\")\n",
    "else:\n",
    "    print(\"The time series is not stationary\")"
   ]
  },
  {
   "cell_type": "markdown",
   "id": "775d550e",
   "metadata": {},
   "source": [
    "## Seasonal Differencing:\n",
    "If your data exhibits seasonal patterns, you can compute the difference between an observation and the corresponding observation from the previous season to remove seasonality."
   ]
  },
  {
   "cell_type": "markdown",
   "id": "07e5892b",
   "metadata": {
    "ExecuteTime": {
     "end_time": "2024-05-22T14:27:59.954784Z",
     "start_time": "2024-05-22T14:27:59.945249Z"
    }
   },
   "source": [
    "# Define the seasonal lag\n",
    "seasonal_lag = 12   # For monthly data with yearly seasonality\n",
    "df_sdf = df.diff(periods=seasonal_lag).dropna()"
   ]
  },
  {
   "cell_type": "markdown",
   "id": "0be65076",
   "metadata": {
    "ExecuteTime": {
     "end_time": "2024-05-22T14:28:00.739398Z",
     "start_time": "2024-05-22T14:28:00.537343Z"
    }
   },
   "source": [
    "# Perform the Augmented Dickey-Fuller test\n",
    "result = adfuller(df_sdf)\n",
    "\n",
    "print('ADF Statistic:', result[0])\n",
    "print('p-value:', result[1])\n",
    "if result[1] <= 0.05:\n",
    "    print(\"The time series is stationary\")\n",
    "else:\n",
    "    print(\"The time series is not stationary\")"
   ]
  },
  {
   "cell_type": "markdown",
   "id": "cd14279c",
   "metadata": {
    "ExecuteTime": {
     "end_time": "2024-05-26T22:48:36.386042Z",
     "start_time": "2024-05-26T22:48:36.372023Z"
    }
   },
   "source": [
    "# Check the number of dimensions of time_series_data\n",
    "print(\"Number of dimensions:\", df.ndim)"
   ]
  },
  {
   "cell_type": "markdown",
   "id": "a04c5491",
   "metadata": {},
   "source": [
    "## ARIMA Forecasting\n",
    "Fit an ARIMA (AutoRegressive Integrated Moving Average) model to the time series and forecast future values."
   ]
  },
  {
   "cell_type": "code",
   "execution_count": 18,
   "id": "8d8818d3",
   "metadata": {
    "ExecuteTime": {
     "end_time": "2024-06-09T23:15:13.741615Z",
     "start_time": "2024-06-09T23:15:13.479499Z"
    }
   },
   "outputs": [
    {
     "name": "stderr",
     "output_type": "stream",
     "text": [
      "C:\\Users\\Sabbath\\anaconda3\\lib\\site-packages\\statsmodels\\tsa\\base\\tsa_model.py:471: ValueWarning: No frequency information was provided, so inferred frequency M will be used.\n",
      "  self._init_dates(dates, freq)\n",
      "C:\\Users\\Sabbath\\anaconda3\\lib\\site-packages\\statsmodels\\tsa\\base\\tsa_model.py:471: ValueWarning: No frequency information was provided, so inferred frequency M will be used.\n",
      "  self._init_dates(dates, freq)\n",
      "C:\\Users\\Sabbath\\anaconda3\\lib\\site-packages\\statsmodels\\tsa\\base\\tsa_model.py:471: ValueWarning: No frequency information was provided, so inferred frequency M will be used.\n",
      "  self._init_dates(dates, freq)\n"
     ]
    },
    {
     "data": {
      "image/png": "[encoded data removed]",
      "text/plain": [
       "<Figure size 432x288 with 1 Axes>"
      ]
     },
     "metadata": {
      "needs_background": "light"
     },
     "output_type": "display_data"
    }
   ],
   "source": [
    "# Fit the ARIMA model - The time series is stationary\n",
    "model = ARIMA(df, order=(2, 1, 0))  \n",
    "arima_result = model.fit()\n",
    "\n",
    "# Forecast the next 500 data points\n",
    "forecast = arima_result.forecast(steps=50)\n",
    "\n",
    "# Plot the original time series with the forecast\n",
    "df.plot(label='Original Time Series')\n",
    "forecast.plot(label='Forecast', color='red')\n",
    "plt.legend()\n",
    "plt.show()\n"
   ]
  },
  {
   "cell_type": "markdown",
   "id": "0014b702",
   "metadata": {},
   "source": [
    "## Smoothing\n",
    "Smoothing helps reduce noise in a time series to better reveal underlying trends or patterns. Common techniques include rolling averages and exponential moving averages (EMA)."
   ]
  },
  {
   "cell_type": "markdown",
   "id": "a830ab74",
   "metadata": {},
   "source": [
    "## Rolling Averages\n",
    "A rolling average smooths a time series by averaging over a specified window."
   ]
  },
  {
   "cell_type": "markdown",
   "id": "a4064cb7",
   "metadata": {
    "ExecuteTime": {
     "end_time": "2024-05-26T22:47:49.251776Z",
     "start_time": "2024-05-26T22:47:48.951166Z"
    }
   },
   "source": [
    "# Apply a rolling average\n",
    "df['rolling_avg'] = df.rolling(window=7).mean()  # 7-day rolling average\n",
    "\n",
    "# Plot the original time series with the rolling average\n",
    "df.plot(title='Rolling Average Smoothing')\n",
    "plt.show()"
   ]
  },
  {
   "cell_type": "markdown",
   "id": "389e151a",
   "metadata": {},
   "source": [
    "## Train-Test Split"
   ]
  },
  {
   "cell_type": "code",
   "execution_count": 19,
   "id": "14ac187f",
   "metadata": {
    "ExecuteTime": {
     "end_time": "2024-06-09T23:15:13.758055Z",
     "start_time": "2024-06-09T23:15:13.744672Z"
    }
   },
   "outputs": [],
   "source": [
    "train_size = int(len(df) * 0.8)\n",
    "train, test = df[:train_size], df[train_size:]"
   ]
  },
  {
   "cell_type": "markdown",
   "id": "f06fbb2c",
   "metadata": {},
   "source": [
    "## Build and Fit Model\n",
    "#### One of the most common models for time series forecasting is the ARIMA model. Fit an ARIMA model to your training data."
   ]
  },
  {
   "cell_type": "code",
   "execution_count": 20,
   "id": "d7418c56",
   "metadata": {
    "ExecuteTime": {
     "end_time": "2024-06-09T23:15:13.942736Z",
     "start_time": "2024-06-09T23:15:13.760216Z"
    }
   },
   "outputs": [
    {
     "name": "stdout",
     "output_type": "stream",
     "text": [
      "                               SARIMAX Results                                \n",
      "==============================================================================\n",
      "Dep. Variable:                 Demand   No. Observations:                  182\n",
      "Model:                 ARIMA(2, 1, 0)   Log Likelihood                -632.404\n",
      "Date:                Sun, 09 Jun 2024   AIC                           1270.808\n",
      "Time:                        19:15:13   BIC                           1280.404\n",
      "Sample:                    01-31-2002   HQIC                          1274.698\n",
      "                         - 02-28-2017                                         \n",
      "Covariance Type:                  opg                                         \n",
      "==============================================================================\n",
      "                 coef    std err          z      P>|z|      [0.025      0.975]\n",
      "------------------------------------------------------------------------------\n",
      "ar.L1         -0.6799      0.076     -8.942      0.000      -0.829      -0.531\n",
      "ar.L2         -0.3538      0.078     -4.562      0.000      -0.506      -0.202\n",
      "sigma2        63.2401      6.867      9.209      0.000      49.781      76.700\n",
      "===================================================================================\n",
      "Ljung-Box (L1) (Q):                   1.05   Jarque-Bera (JB):                 1.42\n",
      "Prob(Q):                              0.30   Prob(JB):                         0.49\n",
      "Heteroskedasticity (H):               0.77   Skew:                            -0.21\n",
      "Prob(H) (two-sided):                  0.31   Kurtosis:                         2.93\n",
      "===================================================================================\n",
      "\n",
      "Warnings:\n",
      "[1] Covariance matrix calculated using the outer product of gradients (complex-step).\n"
     ]
    },
    {
     "name": "stderr",
     "output_type": "stream",
     "text": [
      "C:\\Users\\Sabbath\\anaconda3\\lib\\site-packages\\statsmodels\\tsa\\base\\tsa_model.py:471: ValueWarning: No frequency information was provided, so inferred frequency M will be used.\n",
      "  self._init_dates(dates, freq)\n",
      "C:\\Users\\Sabbath\\anaconda3\\lib\\site-packages\\statsmodels\\tsa\\base\\tsa_model.py:471: ValueWarning: No frequency information was provided, so inferred frequency M will be used.\n",
      "  self._init_dates(dates, freq)\n",
      "C:\\Users\\Sabbath\\anaconda3\\lib\\site-packages\\statsmodels\\tsa\\base\\tsa_model.py:471: ValueWarning: No frequency information was provided, so inferred frequency M will be used.\n",
      "  self._init_dates(dates, freq)\n"
     ]
    }
   ],
   "source": [
    "model = ARIMA(train, order=(2, 1, 0))  \n",
    "model_fit = model.fit()\n",
    "print(model_fit.summary())"
   ]
  },
  {
   "cell_type": "markdown",
   "id": "f3788945",
   "metadata": {},
   "source": [
    "## Make Predictions\n",
    "#### Use the model to make predictions on the test set"
   ]
  },
  {
   "cell_type": "code",
   "execution_count": 21,
   "id": "cb1614a8",
   "metadata": {
    "ExecuteTime": {
     "end_time": "2024-06-09T23:15:13.973580Z",
     "start_time": "2024-06-09T23:15:13.945737Z"
    }
   },
   "outputs": [
    {
     "data": {
      "text/plain": [
       "2017-03-31    43.922949\n",
       "2017-04-30    45.064276\n",
       "2017-05-31    43.961840\n",
       "2017-06-30    44.307579\n",
       "2017-07-31    44.462525\n",
       "2017-08-31    44.234876\n",
       "2017-09-30    44.334830\n",
       "2017-10-31    44.347409\n",
       "2017-11-30    44.303498\n",
       "2017-12-31    44.328901\n",
       "2018-01-31    44.327164\n",
       "2018-02-28    44.319358\n",
       "2018-03-31    44.325280\n",
       "2018-04-30    44.324016\n",
       "2018-05-31    44.322780\n",
       "2018-06-30    44.324067\n",
       "2018-07-31    44.323629\n",
       "2018-08-31    44.323472\n",
       "2018-09-30    44.323734\n",
       "2018-10-31    44.323611\n",
       "2018-11-30    44.323602\n",
       "2018-12-31    44.323652\n",
       "2019-01-31    44.323621\n",
       "2019-02-28    44.323624\n",
       "2019-03-31    44.323633\n",
       "2019-04-30    44.323626\n",
       "2019-05-31    44.323628\n",
       "2019-06-30    44.323629\n",
       "2019-07-31    44.323627\n",
       "2019-08-31    44.323628\n",
       "2019-09-30    44.323628\n",
       "2019-10-31    44.323628\n",
       "2019-11-30    44.323628\n",
       "2019-12-31    44.323628\n",
       "2020-01-31    44.323628\n",
       "2020-02-29    44.323628\n",
       "2020-03-31    44.323628\n",
       "2020-04-30    44.323628\n",
       "2020-05-31    44.323628\n",
       "2020-06-30    44.323628\n",
       "2020-07-31    44.323628\n",
       "2020-08-31    44.323628\n",
       "2020-09-30    44.323628\n",
       "2020-10-31    44.323628\n",
       "2020-11-30    44.323628\n",
       "2020-12-31    44.323628\n",
       "Freq: M, Name: predicted_mean, dtype: float64"
      ]
     },
     "execution_count": 21,
     "metadata": {},
     "output_type": "execute_result"
    }
   ],
   "source": [
    "start_index = test.index[0]\n",
    "end_index = test.index[-1]\n",
    "predictions = model_fit.predict(start=start_index, end=end_index, dynamic=False)\n",
    "predictions"
   ]
  },
  {
   "cell_type": "markdown",
   "id": "2bf4cf1c",
   "metadata": {},
   "source": [
    "##  Evaluate model"
   ]
  },
  {
   "cell_type": "code",
   "execution_count": 22,
   "id": "0fc883a2",
   "metadata": {
    "ExecuteTime": {
     "end_time": "2024-06-09T23:15:13.989536Z",
     "start_time": "2024-06-09T23:15:13.976650Z"
    }
   },
   "outputs": [
    {
     "name": "stdout",
     "output_type": "stream",
     "text": [
      "Mean Squared Error: 70.37612726154441\n"
     ]
    }
   ],
   "source": [
    "mse = mean_squared_error(test, predictions)\n",
    "print(f'Mean Squared Error: {mse}')"
   ]
  },
  {
   "cell_type": "code",
   "execution_count": 23,
   "id": "c1dc9ccf",
   "metadata": {
    "ExecuteTime": {
     "end_time": "2024-06-09T23:15:14.504060Z",
     "start_time": "2024-06-09T23:15:13.994098Z"
    }
   },
   "outputs": [
    {
     "data": {
      "text/plain": [
       "Demand    0.194015\n",
       "dtype: float64"
      ]
     },
     "execution_count": 23,
     "metadata": {},
     "output_type": "execute_result"
    }
   ],
   "source": [
    "np.sqrt(mse ) / np.mean(test)"
   ]
  },
  {
   "cell_type": "code",
   "execution_count": 24,
   "id": "3c9aa2a9",
   "metadata": {
    "ExecuteTime": {
     "end_time": "2024-06-09T23:15:14.519185Z",
     "start_time": "2024-06-09T23:15:14.505130Z"
    }
   },
   "outputs": [],
   "source": [
    "from sklearn.metrics import mean_absolute_percentage_error as mape"
   ]
  },
  {
   "cell_type": "code",
   "execution_count": 25,
   "id": "34e72f85",
   "metadata": {
    "ExecuteTime": {
     "end_time": "2024-06-09T23:15:14.534810Z",
     "start_time": "2024-06-09T23:15:14.520271Z"
    }
   },
   "outputs": [
    {
     "data": {
      "text/plain": [
       "0.1800320268148583"
      ]
     },
     "execution_count": 25,
     "metadata": {},
     "output_type": "execute_result"
    }
   ],
   "source": [
    "mape(test,predictions)"
   ]
  },
  {
   "cell_type": "markdown",
   "id": "d2196515",
   "metadata": {},
   "source": [
    "## Plot predictions"
   ]
  },
  {
   "cell_type": "code",
   "execution_count": 26,
   "id": "5d3d724c",
   "metadata": {
    "ExecuteTime": {
     "end_time": "2024-06-09T23:15:14.831962Z",
     "start_time": "2024-06-09T23:15:14.537458Z"
    }
   },
   "outputs": [
    {
     "data": {
      "image/png": "[encoded data removed]",
      "text/plain": [
       "<Figure size 720x432 with 1 Axes>"
      ]
     },
     "metadata": {
      "needs_background": "light"
     },
     "output_type": "display_data"
    }
   ],
   "source": [
    "plt.figure(figsize=(10, 6))\n",
    "plt.plot(train, label='Train')\n",
    "plt.plot(test, label='Test')\n",
    "plt.plot(predictions, label='Predicted')\n",
    "plt.legend()\n",
    "plt.title('Time Series Prediction')\n",
    "plt.xlabel('Date')\n",
    "plt.ylabel('Value')\n",
    "plt.show()"
   ]
  },
  {
   "cell_type": "code",
   "execution_count": 27,
   "id": "0e0507e4",
   "metadata": {
    "ExecuteTime": {
     "end_time": "2024-06-09T23:15:16.514324Z",
     "start_time": "2024-06-09T23:15:14.833150Z"
    }
   },
   "outputs": [
    {
     "name": "stderr",
     "output_type": "stream",
     "text": [
      "C:\\Users\\Sabbath\\anaconda3\\lib\\site-packages\\statsmodels\\tsa\\base\\tsa_model.py:471: ValueWarning: No frequency information was provided, so inferred frequency M will be used.\n",
      "  self._init_dates(dates, freq)\n"
     ]
    },
    {
     "data": {
      "text/html": [
       "<div>\n",
       "<style scoped>\n",
       "    .dataframe tbody tr th:only-of-type {\n",
       "        vertical-align: middle;\n",
       "    }\n",
       "\n",
       "    .dataframe tbody tr th {\n",
       "        vertical-align: top;\n",
       "    }\n",
       "\n",
       "    .dataframe thead th {\n",
       "        text-align: right;\n",
       "    }\n",
       "</style>\n",
       "<table border=\"1\" class=\"dataframe\">\n",
       "  <thead>\n",
       "    <tr style=\"text-align: right;\">\n",
       "      <th></th>\n",
       "      <th>Demand</th>\n",
       "    </tr>\n",
       "  </thead>\n",
       "  <tbody>\n",
       "    <tr>\n",
       "      <th>2017-02-28</th>\n",
       "      <td>42.127151</td>\n",
       "    </tr>\n",
       "    <tr>\n",
       "      <th>2017-03-31</th>\n",
       "      <td>45.644362</td>\n",
       "    </tr>\n",
       "    <tr>\n",
       "      <th>2017-04-30</th>\n",
       "      <td>40.548111</td>\n",
       "    </tr>\n",
       "    <tr>\n",
       "      <th>2017-05-31</th>\n",
       "      <td>43.725341</td>\n",
       "    </tr>\n",
       "    <tr>\n",
       "      <th>2017-06-30</th>\n",
       "      <td>42.526777</td>\n",
       "    </tr>\n",
       "    <tr>\n",
       "      <th>2017-07-31</th>\n",
       "      <td>45.767604</td>\n",
       "    </tr>\n",
       "    <tr>\n",
       "      <th>2017-08-31</th>\n",
       "      <td>41.277174</td>\n",
       "    </tr>\n",
       "    <tr>\n",
       "      <th>2017-09-30</th>\n",
       "      <td>41.471242</td>\n",
       "    </tr>\n",
       "    <tr>\n",
       "      <th>2017-10-31</th>\n",
       "      <td>47.763674</td>\n",
       "    </tr>\n",
       "    <tr>\n",
       "      <th>2017-11-30</th>\n",
       "      <td>40.810340</td>\n",
       "    </tr>\n",
       "    <tr>\n",
       "      <th>2017-12-31</th>\n",
       "      <td>45.255026</td>\n",
       "    </tr>\n",
       "    <tr>\n",
       "      <th>2018-01-31</th>\n",
       "      <td>47.683162</td>\n",
       "    </tr>\n",
       "    <tr>\n",
       "      <th>2018-02-28</th>\n",
       "      <td>42.093972</td>\n",
       "    </tr>\n",
       "    <tr>\n",
       "      <th>2018-03-31</th>\n",
       "      <td>45.608411</td>\n",
       "    </tr>\n",
       "    <tr>\n",
       "      <th>2018-04-30</th>\n",
       "      <td>40.516172</td>\n",
       "    </tr>\n",
       "    <tr>\n",
       "      <th>2018-05-31</th>\n",
       "      <td>43.690897</td>\n",
       "    </tr>\n",
       "    <tr>\n",
       "      <th>2018-06-30</th>\n",
       "      <td>42.493275</td>\n",
       "    </tr>\n",
       "    <tr>\n",
       "      <th>2018-07-31</th>\n",
       "      <td>45.731546</td>\n",
       "    </tr>\n",
       "    <tr>\n",
       "      <th>2018-08-31</th>\n",
       "      <td>41.244652</td>\n",
       "    </tr>\n",
       "    <tr>\n",
       "      <th>2018-09-30</th>\n",
       "      <td>41.438565</td>\n",
       "    </tr>\n",
       "    <tr>\n",
       "      <th>2018-10-31</th>\n",
       "      <td>47.726036</td>\n",
       "    </tr>\n",
       "    <tr>\n",
       "      <th>2018-11-30</th>\n",
       "      <td>40.778179</td>\n",
       "    </tr>\n",
       "    <tr>\n",
       "      <th>2018-12-31</th>\n",
       "      <td>45.219360</td>\n",
       "    </tr>\n",
       "    <tr>\n",
       "      <th>2019-01-31</th>\n",
       "      <td>47.645580</td>\n",
       "    </tr>\n",
       "    <tr>\n",
       "      <th>2019-02-28</th>\n",
       "      <td>42.060793</td>\n",
       "    </tr>\n",
       "    <tr>\n",
       "      <th>2019-03-31</th>\n",
       "      <td>45.572460</td>\n",
       "    </tr>\n",
       "    <tr>\n",
       "      <th>2019-04-30</th>\n",
       "      <td>40.484232</td>\n",
       "    </tr>\n",
       "    <tr>\n",
       "      <th>2019-05-31</th>\n",
       "      <td>43.656452</td>\n",
       "    </tr>\n",
       "    <tr>\n",
       "      <th>2019-06-30</th>\n",
       "      <td>42.459772</td>\n",
       "    </tr>\n",
       "    <tr>\n",
       "      <th>2019-07-31</th>\n",
       "      <td>45.695488</td>\n",
       "    </tr>\n",
       "    <tr>\n",
       "      <th>2019-08-31</th>\n",
       "      <td>41.212130</td>\n",
       "    </tr>\n",
       "    <tr>\n",
       "      <th>2019-09-30</th>\n",
       "      <td>41.405888</td>\n",
       "    </tr>\n",
       "    <tr>\n",
       "      <th>2019-10-31</th>\n",
       "      <td>47.688398</td>\n",
       "    </tr>\n",
       "    <tr>\n",
       "      <th>2019-11-30</th>\n",
       "      <td>40.746018</td>\n",
       "    </tr>\n",
       "    <tr>\n",
       "      <th>2019-12-31</th>\n",
       "      <td>45.183694</td>\n",
       "    </tr>\n",
       "    <tr>\n",
       "      <th>2020-01-31</th>\n",
       "      <td>47.607998</td>\n",
       "    </tr>\n",
       "    <tr>\n",
       "      <th>2020-02-29</th>\n",
       "      <td>42.027614</td>\n",
       "    </tr>\n",
       "    <tr>\n",
       "      <th>2020-03-31</th>\n",
       "      <td>45.536508</td>\n",
       "    </tr>\n",
       "    <tr>\n",
       "      <th>2020-04-30</th>\n",
       "      <td>40.452293</td>\n",
       "    </tr>\n",
       "    <tr>\n",
       "      <th>2020-05-31</th>\n",
       "      <td>43.622008</td>\n",
       "    </tr>\n",
       "    <tr>\n",
       "      <th>2020-06-30</th>\n",
       "      <td>42.426270</td>\n",
       "    </tr>\n",
       "    <tr>\n",
       "      <th>2020-07-31</th>\n",
       "      <td>45.659430</td>\n",
       "    </tr>\n",
       "    <tr>\n",
       "      <th>2020-08-31</th>\n",
       "      <td>41.179607</td>\n",
       "    </tr>\n",
       "    <tr>\n",
       "      <th>2020-09-30</th>\n",
       "      <td>41.373210</td>\n",
       "    </tr>\n",
       "    <tr>\n",
       "      <th>2020-10-31</th>\n",
       "      <td>47.650760</td>\n",
       "    </tr>\n",
       "    <tr>\n",
       "      <th>2020-11-30</th>\n",
       "      <td>40.713857</td>\n",
       "    </tr>\n",
       "  </tbody>\n",
       "</table>\n",
       "</div>"
      ],
      "text/plain": [
       "               Demand\n",
       "2017-02-28  42.127151\n",
       "2017-03-31  45.644362\n",
       "2017-04-30  40.548111\n",
       "2017-05-31  43.725341\n",
       "2017-06-30  42.526777\n",
       "2017-07-31  45.767604\n",
       "2017-08-31  41.277174\n",
       "2017-09-30  41.471242\n",
       "2017-10-31  47.763674\n",
       "2017-11-30  40.810340\n",
       "2017-12-31  45.255026\n",
       "2018-01-31  47.683162\n",
       "2018-02-28  42.093972\n",
       "2018-03-31  45.608411\n",
       "2018-04-30  40.516172\n",
       "2018-05-31  43.690897\n",
       "2018-06-30  42.493275\n",
       "2018-07-31  45.731546\n",
       "2018-08-31  41.244652\n",
       "2018-09-30  41.438565\n",
       "2018-10-31  47.726036\n",
       "2018-11-30  40.778179\n",
       "2018-12-31  45.219360\n",
       "2019-01-31  47.645580\n",
       "2019-02-28  42.060793\n",
       "2019-03-31  45.572460\n",
       "2019-04-30  40.484232\n",
       "2019-05-31  43.656452\n",
       "2019-06-30  42.459772\n",
       "2019-07-31  45.695488\n",
       "2019-08-31  41.212130\n",
       "2019-09-30  41.405888\n",
       "2019-10-31  47.688398\n",
       "2019-11-30  40.746018\n",
       "2019-12-31  45.183694\n",
       "2020-01-31  47.607998\n",
       "2020-02-29  42.027614\n",
       "2020-03-31  45.536508\n",
       "2020-04-30  40.452293\n",
       "2020-05-31  43.622008\n",
       "2020-06-30  42.426270\n",
       "2020-07-31  45.659430\n",
       "2020-08-31  41.179607\n",
       "2020-09-30  41.373210\n",
       "2020-10-31  47.650760\n",
       "2020-11-30  40.713857"
      ]
     },
     "execution_count": 27,
     "metadata": {},
     "output_type": "execute_result"
    }
   ],
   "source": [
    "from sktime.forecasting.exp_smoothing import ExponentialSmoothing\n",
    "forecaster = ExponentialSmoothing(\n",
    "    trend='add', seasonal='multiplicative', sp=12\n",
    ")  \n",
    "forecaster.fit(train)  \n",
    "ExponentialSmoothing(...)\n",
    "y_pred = forecaster.predict(fh=np.arange(len(test)))  \n",
    "y_pred"
   ]
  },
  {
   "cell_type": "code",
   "execution_count": 28,
   "id": "43044fbe",
   "metadata": {
    "ExecuteTime": {
     "end_time": "2024-06-09T23:15:16.530211Z",
     "start_time": "2024-06-09T23:15:16.519099Z"
    }
   },
   "outputs": [
    {
     "data": {
      "text/plain": [
       "0.19168639229826576"
      ]
     },
     "execution_count": 28,
     "metadata": {},
     "output_type": "execute_result"
    }
   ],
   "source": [
    "mape(test,y_pred)"
   ]
  },
  {
   "cell_type": "markdown",
   "id": "14e0141b",
   "metadata": {},
   "source": [
    "## RandomForest"
   ]
  },
  {
   "cell_type": "code",
   "execution_count": 29,
   "id": "18dfde56",
   "metadata": {
    "ExecuteTime": {
     "end_time": "2024-06-09T23:15:17.232879Z",
     "start_time": "2024-06-09T23:15:16.532748Z"
    }
   },
   "outputs": [],
   "source": [
    "from sktime.forecasting.compose import make_reduction\n",
    "from sklearn.ensemble import RandomForestRegressor\n",
    "regressor = RandomForestRegressor()\n",
    "forecaster = make_reduction(regressor, window_length=15, strategy=\"recursive\")\n",
    "forecaster.fit(train)\n",
    "y_predrd = forecaster.predict(fh=np.arange(1,len(test)+1))"
   ]
  },
  {
   "cell_type": "code",
   "execution_count": 30,
   "id": "9df36fb3",
   "metadata": {
    "ExecuteTime": {
     "end_time": "2024-06-09T23:15:17.264227Z",
     "start_time": "2024-06-09T23:15:17.235890Z"
    }
   },
   "outputs": [
    {
     "data": {
      "text/html": [
       "<div>\n",
       "<style scoped>\n",
       "    .dataframe tbody tr th:only-of-type {\n",
       "        vertical-align: middle;\n",
       "    }\n",
       "\n",
       "    .dataframe tbody tr th {\n",
       "        vertical-align: top;\n",
       "    }\n",
       "\n",
       "    .dataframe thead th {\n",
       "        text-align: right;\n",
       "    }\n",
       "</style>\n",
       "<table border=\"1\" class=\"dataframe\">\n",
       "  <thead>\n",
       "    <tr style=\"text-align: right;\">\n",
       "      <th></th>\n",
       "      <th>Demand</th>\n",
       "    </tr>\n",
       "  </thead>\n",
       "  <tbody>\n",
       "    <tr>\n",
       "      <th>2017-03-31</th>\n",
       "      <td>43.22</td>\n",
       "    </tr>\n",
       "    <tr>\n",
       "      <th>2017-04-30</th>\n",
       "      <td>43.73</td>\n",
       "    </tr>\n",
       "    <tr>\n",
       "      <th>2017-05-31</th>\n",
       "      <td>43.27</td>\n",
       "    </tr>\n",
       "    <tr>\n",
       "      <th>2017-06-30</th>\n",
       "      <td>43.64</td>\n",
       "    </tr>\n",
       "    <tr>\n",
       "      <th>2017-07-31</th>\n",
       "      <td>45.40</td>\n",
       "    </tr>\n",
       "    <tr>\n",
       "      <th>2017-08-31</th>\n",
       "      <td>43.87</td>\n",
       "    </tr>\n",
       "    <tr>\n",
       "      <th>2017-09-30</th>\n",
       "      <td>43.87</td>\n",
       "    </tr>\n",
       "    <tr>\n",
       "      <th>2017-10-31</th>\n",
       "      <td>42.67</td>\n",
       "    </tr>\n",
       "    <tr>\n",
       "      <th>2017-11-30</th>\n",
       "      <td>44.58</td>\n",
       "    </tr>\n",
       "    <tr>\n",
       "      <th>2017-12-31</th>\n",
       "      <td>43.00</td>\n",
       "    </tr>\n",
       "    <tr>\n",
       "      <th>2018-01-31</th>\n",
       "      <td>42.08</td>\n",
       "    </tr>\n",
       "    <tr>\n",
       "      <th>2018-02-28</th>\n",
       "      <td>44.71</td>\n",
       "    </tr>\n",
       "    <tr>\n",
       "      <th>2018-03-31</th>\n",
       "      <td>42.84</td>\n",
       "    </tr>\n",
       "    <tr>\n",
       "      <th>2018-04-30</th>\n",
       "      <td>43.60</td>\n",
       "    </tr>\n",
       "    <tr>\n",
       "      <th>2018-05-31</th>\n",
       "      <td>43.24</td>\n",
       "    </tr>\n",
       "    <tr>\n",
       "      <th>2018-06-30</th>\n",
       "      <td>42.90</td>\n",
       "    </tr>\n",
       "    <tr>\n",
       "      <th>2018-07-31</th>\n",
       "      <td>44.08</td>\n",
       "    </tr>\n",
       "    <tr>\n",
       "      <th>2018-08-31</th>\n",
       "      <td>43.29</td>\n",
       "    </tr>\n",
       "    <tr>\n",
       "      <th>2018-09-30</th>\n",
       "      <td>44.69</td>\n",
       "    </tr>\n",
       "    <tr>\n",
       "      <th>2018-10-31</th>\n",
       "      <td>44.39</td>\n",
       "    </tr>\n",
       "    <tr>\n",
       "      <th>2018-11-30</th>\n",
       "      <td>43.31</td>\n",
       "    </tr>\n",
       "    <tr>\n",
       "      <th>2018-12-31</th>\n",
       "      <td>44.58</td>\n",
       "    </tr>\n",
       "    <tr>\n",
       "      <th>2019-01-31</th>\n",
       "      <td>42.70</td>\n",
       "    </tr>\n",
       "    <tr>\n",
       "      <th>2019-02-28</th>\n",
       "      <td>44.04</td>\n",
       "    </tr>\n",
       "    <tr>\n",
       "      <th>2019-03-31</th>\n",
       "      <td>44.25</td>\n",
       "    </tr>\n",
       "    <tr>\n",
       "      <th>2019-04-30</th>\n",
       "      <td>42.78</td>\n",
       "    </tr>\n",
       "    <tr>\n",
       "      <th>2019-05-31</th>\n",
       "      <td>43.97</td>\n",
       "    </tr>\n",
       "    <tr>\n",
       "      <th>2019-06-30</th>\n",
       "      <td>43.27</td>\n",
       "    </tr>\n",
       "    <tr>\n",
       "      <th>2019-07-31</th>\n",
       "      <td>42.63</td>\n",
       "    </tr>\n",
       "    <tr>\n",
       "      <th>2019-08-31</th>\n",
       "      <td>44.19</td>\n",
       "    </tr>\n",
       "    <tr>\n",
       "      <th>2019-09-30</th>\n",
       "      <td>43.28</td>\n",
       "    </tr>\n",
       "    <tr>\n",
       "      <th>2019-10-31</th>\n",
       "      <td>44.56</td>\n",
       "    </tr>\n",
       "    <tr>\n",
       "      <th>2019-11-30</th>\n",
       "      <td>43.28</td>\n",
       "    </tr>\n",
       "    <tr>\n",
       "      <th>2019-12-31</th>\n",
       "      <td>43.31</td>\n",
       "    </tr>\n",
       "    <tr>\n",
       "      <th>2020-01-31</th>\n",
       "      <td>44.60</td>\n",
       "    </tr>\n",
       "    <tr>\n",
       "      <th>2020-02-29</th>\n",
       "      <td>42.85</td>\n",
       "    </tr>\n",
       "    <tr>\n",
       "      <th>2020-03-31</th>\n",
       "      <td>44.13</td>\n",
       "    </tr>\n",
       "    <tr>\n",
       "      <th>2020-04-30</th>\n",
       "      <td>44.61</td>\n",
       "    </tr>\n",
       "    <tr>\n",
       "      <th>2020-05-31</th>\n",
       "      <td>42.52</td>\n",
       "    </tr>\n",
       "    <tr>\n",
       "      <th>2020-06-30</th>\n",
       "      <td>44.02</td>\n",
       "    </tr>\n",
       "    <tr>\n",
       "      <th>2020-07-31</th>\n",
       "      <td>43.40</td>\n",
       "    </tr>\n",
       "    <tr>\n",
       "      <th>2020-08-31</th>\n",
       "      <td>43.98</td>\n",
       "    </tr>\n",
       "    <tr>\n",
       "      <th>2020-09-30</th>\n",
       "      <td>43.78</td>\n",
       "    </tr>\n",
       "    <tr>\n",
       "      <th>2020-10-31</th>\n",
       "      <td>43.40</td>\n",
       "    </tr>\n",
       "    <tr>\n",
       "      <th>2020-11-30</th>\n",
       "      <td>44.58</td>\n",
       "    </tr>\n",
       "    <tr>\n",
       "      <th>2020-12-31</th>\n",
       "      <td>43.04</td>\n",
       "    </tr>\n",
       "  </tbody>\n",
       "</table>\n",
       "</div>"
      ],
      "text/plain": [
       "            Demand\n",
       "2017-03-31   43.22\n",
       "2017-04-30   43.73\n",
       "2017-05-31   43.27\n",
       "2017-06-30   43.64\n",
       "2017-07-31   45.40\n",
       "2017-08-31   43.87\n",
       "2017-09-30   43.87\n",
       "2017-10-31   42.67\n",
       "2017-11-30   44.58\n",
       "2017-12-31   43.00\n",
       "2018-01-31   42.08\n",
       "2018-02-28   44.71\n",
       "2018-03-31   42.84\n",
       "2018-04-30   43.60\n",
       "2018-05-31   43.24\n",
       "2018-06-30   42.90\n",
       "2018-07-31   44.08\n",
       "2018-08-31   43.29\n",
       "2018-09-30   44.69\n",
       "2018-10-31   44.39\n",
       "2018-11-30   43.31\n",
       "2018-12-31   44.58\n",
       "2019-01-31   42.70\n",
       "2019-02-28   44.04\n",
       "2019-03-31   44.25\n",
       "2019-04-30   42.78\n",
       "2019-05-31   43.97\n",
       "2019-06-30   43.27\n",
       "2019-07-31   42.63\n",
       "2019-08-31   44.19\n",
       "2019-09-30   43.28\n",
       "2019-10-31   44.56\n",
       "2019-11-30   43.28\n",
       "2019-12-31   43.31\n",
       "2020-01-31   44.60\n",
       "2020-02-29   42.85\n",
       "2020-03-31   44.13\n",
       "2020-04-30   44.61\n",
       "2020-05-31   42.52\n",
       "2020-06-30   44.02\n",
       "2020-07-31   43.40\n",
       "2020-08-31   43.98\n",
       "2020-09-30   43.78\n",
       "2020-10-31   43.40\n",
       "2020-11-30   44.58\n",
       "2020-12-31   43.04"
      ]
     },
     "execution_count": 30,
     "metadata": {},
     "output_type": "execute_result"
    }
   ],
   "source": [
    "y_predrd "
   ]
  },
  {
   "cell_type": "code",
   "execution_count": 31,
   "id": "f7f9438c",
   "metadata": {
    "ExecuteTime": {
     "end_time": "2024-06-09T23:15:17.294637Z",
     "start_time": "2024-06-09T23:15:17.268229Z"
    }
   },
   "outputs": [
    {
     "data": {
      "text/plain": [
       "0.1756341099442035"
      ]
     },
     "execution_count": 31,
     "metadata": {},
     "output_type": "execute_result"
    }
   ],
   "source": [
    "mape(test,y_predrd)"
   ]
  },
  {
   "cell_type": "markdown",
   "id": "2a0ddad3",
   "metadata": {},
   "source": [
    "##  LightGBM"
   ]
  },
  {
   "cell_type": "code",
   "execution_count": 39,
   "id": "df924c7d",
   "metadata": {
    "ExecuteTime": {
     "end_time": "2024-06-09T23:20:41.477220Z",
     "start_time": "2024-06-09T23:20:41.250289Z"
    },
    "scrolled": false
   },
   "outputs": [
    {
     "name": "stdout",
     "output_type": "stream",
     "text": [
      "[LightGBM] [Info] Auto-choosing col-wise multi-threading, the overhead of testing was 0.000040 seconds.\n",
      "You can set `force_col_wise=true` to remove the overhead.\n",
      "[LightGBM] [Info] Total Bins 81\n",
      "[LightGBM] [Info] Number of data points in the train set: 179, number of used features: 3\n",
      "[LightGBM] [Info] Start training from score 43.977654\n",
      "[LightGBM] [Warning] No further splits with positive gain, best gain: -inf\n",
      "[LightGBM] [Warning] No further splits with positive gain, best gain: -inf\n",
      "[LightGBM] [Warning] No further splits with positive gain, best gain: -inf\n",
      "[LightGBM] [Warning] No further splits with positive gain, best gain: -inf\n",
      "[LightGBM] [Warning] No further splits with positive gain, best gain: -inf\n",
      "[LightGBM] [Warning] No further splits with positive gain, best gain: -inf\n",
      "[LightGBM] [Warning] No further splits with positive gain, best gain: -inf\n",
      "[LightGBM] [Warning] No further splits with positive gain, best gain: -inf\n",
      "[LightGBM] [Warning] No further splits with positive gain, best gain: -inf\n",
      "[LightGBM] [Warning] No further splits with positive gain, best gain: -inf\n",
      "[LightGBM] [Warning] No further splits with positive gain, best gain: -inf\n",
      "[LightGBM] [Warning] No further splits with positive gain, best gain: -inf\n",
      "[LightGBM] [Warning] No further splits with positive gain, best gain: -inf\n",
      "[LightGBM] [Warning] No further splits with positive gain, best gain: -inf\n",
      "[LightGBM] [Warning] No further splits with positive gain, best gain: -inf\n",
      "[LightGBM] [Warning] No further splits with positive gain, best gain: -inf\n",
      "[LightGBM] [Warning] No further splits with positive gain, best gain: -inf\n",
      "[LightGBM] [Warning] No further splits with positive gain, best gain: -inf\n",
      "[LightGBM] [Warning] No further splits with positive gain, best gain: -inf\n",
      "[LightGBM] [Warning] No further splits with positive gain, best gain: -inf\n",
      "[LightGBM] [Warning] No further splits with positive gain, best gain: -inf\n",
      "[LightGBM] [Warning] No further splits with positive gain, best gain: -inf\n",
      "[LightGBM] [Warning] No further splits with positive gain, best gain: -inf\n",
      "[LightGBM] [Warning] No further splits with positive gain, best gain: -inf\n",
      "[LightGBM] [Warning] No further splits with positive gain, best gain: -inf\n",
      "[LightGBM] [Warning] No further splits with positive gain, best gain: -inf\n",
      "[LightGBM] [Warning] No further splits with positive gain, best gain: -inf\n",
      "[LightGBM] [Warning] No further splits with positive gain, best gain: -inf\n",
      "[LightGBM] [Warning] No further splits with positive gain, best gain: -inf\n",
      "[LightGBM] [Warning] No further splits with positive gain, best gain: -inf\n",
      "[LightGBM] [Warning] No further splits with positive gain, best gain: -inf\n",
      "[LightGBM] [Warning] No further splits with positive gain, best gain: -inf\n",
      "[LightGBM] [Warning] No further splits with positive gain, best gain: -inf\n",
      "[LightGBM] [Warning] No further splits with positive gain, best gain: -inf\n",
      "[LightGBM] [Warning] No further splits with positive gain, best gain: -inf\n",
      "[LightGBM] [Warning] No further splits with positive gain, best gain: -inf\n",
      "[LightGBM] [Warning] No further splits with positive gain, best gain: -inf\n",
      "[LightGBM] [Warning] No further splits with positive gain, best gain: -inf\n",
      "[LightGBM] [Warning] No further splits with positive gain, best gain: -inf\n",
      "[LightGBM] [Warning] No further splits with positive gain, best gain: -inf\n",
      "[LightGBM] [Warning] No further splits with positive gain, best gain: -inf\n",
      "[LightGBM] [Warning] No further splits with positive gain, best gain: -inf\n",
      "[LightGBM] [Warning] No further splits with positive gain, best gain: -inf\n",
      "[LightGBM] [Warning] No further splits with positive gain, best gain: -inf\n",
      "[LightGBM] [Warning] No further splits with positive gain, best gain: -inf\n",
      "[LightGBM] [Warning] No further splits with positive gain, best gain: -inf\n",
      "[LightGBM] [Warning] No further splits with positive gain, best gain: -inf\n",
      "[LightGBM] [Warning] No further splits with positive gain, best gain: -inf\n",
      "[LightGBM] [Warning] No further splits with positive gain, best gain: -inf\n",
      "[LightGBM] [Warning] No further splits with positive gain, best gain: -inf\n",
      "[LightGBM] [Warning] No further splits with positive gain, best gain: -inf\n",
      "[LightGBM] [Warning] No further splits with positive gain, best gain: -inf\n",
      "[LightGBM] [Warning] No further splits with positive gain, best gain: -inf\n",
      "[LightGBM] [Warning] No further splits with positive gain, best gain: -inf\n",
      "[LightGBM] [Warning] No further splits with positive gain, best gain: -inf\n",
      "[LightGBM] [Warning] No further splits with positive gain, best gain: -inf\n",
      "[LightGBM] [Warning] No further splits with positive gain, best gain: -inf\n",
      "[LightGBM] [Warning] No further splits with positive gain, best gain: -inf\n",
      "[LightGBM] [Warning] No further splits with positive gain, best gain: -inf\n",
      "[LightGBM] [Warning] No further splits with positive gain, best gain: -inf\n",
      "[LightGBM] [Warning] No further splits with positive gain, best gain: -inf\n",
      "[LightGBM] [Warning] No further splits with positive gain, best gain: -inf\n",
      "[LightGBM] [Warning] No further splits with positive gain, best gain: -inf\n",
      "[LightGBM] [Warning] No further splits with positive gain, best gain: -inf\n",
      "[LightGBM] [Warning] No further splits with positive gain, best gain: -inf\n",
      "[LightGBM] [Warning] No further splits with positive gain, best gain: -inf\n",
      "[LightGBM] [Warning] No further splits with positive gain, best gain: -inf\n",
      "[LightGBM] [Warning] No further splits with positive gain, best gain: -inf\n",
      "[LightGBM] [Warning] No further splits with positive gain, best gain: -inf\n",
      "[LightGBM] [Warning] No further splits with positive gain, best gain: -inf\n",
      "[LightGBM] [Warning] No further splits with positive gain, best gain: -inf\n",
      "[LightGBM] [Warning] No further splits with positive gain, best gain: -inf\n",
      "[LightGBM] [Warning] No further splits with positive gain, best gain: -inf\n",
      "[LightGBM] [Warning] No further splits with positive gain, best gain: -inf\n",
      "[LightGBM] [Warning] No further splits with positive gain, best gain: -inf\n",
      "[LightGBM] [Warning] No further splits with positive gain, best gain: -inf\n",
      "[LightGBM] [Warning] No further splits with positive gain, best gain: -inf\n",
      "[LightGBM] [Warning] No further splits with positive gain, best gain: -inf\n",
      "[LightGBM] [Warning] No further splits with positive gain, best gain: -inf\n",
      "[LightGBM] [Warning] No further splits with positive gain, best gain: -inf\n",
      "[LightGBM] [Warning] No further splits with positive gain, best gain: -inf\n",
      "[LightGBM] [Warning] No further splits with positive gain, best gain: -inf\n",
      "[LightGBM] [Warning] No further splits with positive gain, best gain: -inf\n",
      "[LightGBM] [Warning] No further splits with positive gain, best gain: -inf\n",
      "[LightGBM] [Warning] No further splits with positive gain, best gain: -inf\n",
      "[LightGBM] [Warning] No further splits with positive gain, best gain: -inf\n",
      "[LightGBM] [Warning] No further splits with positive gain, best gain: -inf\n",
      "[LightGBM] [Warning] No further splits with positive gain, best gain: -inf\n",
      "[LightGBM] [Warning] No further splits with positive gain, best gain: -inf\n",
      "[LightGBM] [Warning] No further splits with positive gain, best gain: -inf\n",
      "[LightGBM] [Warning] No further splits with positive gain, best gain: -inf\n",
      "[LightGBM] [Warning] No further splits with positive gain, best gain: -inf\n",
      "[LightGBM] [Warning] No further splits with positive gain, best gain: -inf\n",
      "[LightGBM] [Warning] No further splits with positive gain, best gain: -inf\n",
      "[LightGBM] [Warning] No further splits with positive gain, best gain: -inf\n",
      "[LightGBM] [Warning] No further splits with positive gain, best gain: -inf\n",
      "[LightGBM] [Warning] No further splits with positive gain, best gain: -inf\n",
      "[LightGBM] [Warning] No further splits with positive gain, best gain: -inf\n",
      "[LightGBM] [Warning] No further splits with positive gain, best gain: -inf\n",
      "[LightGBM] [Warning] No further splits with positive gain, best gain: -inf\n",
      "Mean Squared Error: 69.86310217391305\n"
     ]
    }
   ],
   "source": [
    "from sktime.forecasting.compose import make_reduction\n",
    "import lightgbm as lgb\n",
    "\n",
    "# Create the forecaster with LightGBM\n",
    "lightgbm_regressor = lgb.LGBMRegressor(n_estimators=10,learning_rate=0.05,num_leaves=31, boosting_type='gbdt', objective='regression')\n",
    "forecaster1 = make_reduction(lgb.LGBMRegressor(),window_length=3,strategy=\"recursive\")# Split the data into training and testing sets\n",
    "forecaster1.fit(train)\n",
    "y_predlg = forecaster.predict(fh = np.arange(1, len(test) + 1))\n",
    "\n",
    "# Evaluate the model\n",
    "mse = mean_squared_error(test, y_predlg)\n",
    "print(f'Mean Squared Error: {mse}')"
   ]
  },
  {
   "cell_type": "code",
   "execution_count": 40,
   "id": "4bbfe43a",
   "metadata": {
    "ExecuteTime": {
     "end_time": "2024-06-09T23:20:43.207954Z",
     "start_time": "2024-06-09T23:20:43.188072Z"
    }
   },
   "outputs": [
    {
     "data": {
      "text/html": [
       "<div>\n",
       "<style scoped>\n",
       "    .dataframe tbody tr th:only-of-type {\n",
       "        vertical-align: middle;\n",
       "    }\n",
       "\n",
       "    .dataframe tbody tr th {\n",
       "        vertical-align: top;\n",
       "    }\n",
       "\n",
       "    .dataframe thead th {\n",
       "        text-align: right;\n",
       "    }\n",
       "</style>\n",
       "<table border=\"1\" class=\"dataframe\">\n",
       "  <thead>\n",
       "    <tr style=\"text-align: right;\">\n",
       "      <th></th>\n",
       "      <th>Demand</th>\n",
       "    </tr>\n",
       "  </thead>\n",
       "  <tbody>\n",
       "    <tr>\n",
       "      <th>2017-03-31</th>\n",
       "      <td>43.22</td>\n",
       "    </tr>\n",
       "    <tr>\n",
       "      <th>2017-04-30</th>\n",
       "      <td>43.73</td>\n",
       "    </tr>\n",
       "    <tr>\n",
       "      <th>2017-05-31</th>\n",
       "      <td>43.27</td>\n",
       "    </tr>\n",
       "    <tr>\n",
       "      <th>2017-06-30</th>\n",
       "      <td>43.64</td>\n",
       "    </tr>\n",
       "    <tr>\n",
       "      <th>2017-07-31</th>\n",
       "      <td>45.40</td>\n",
       "    </tr>\n",
       "    <tr>\n",
       "      <th>2017-08-31</th>\n",
       "      <td>43.87</td>\n",
       "    </tr>\n",
       "    <tr>\n",
       "      <th>2017-09-30</th>\n",
       "      <td>43.87</td>\n",
       "    </tr>\n",
       "    <tr>\n",
       "      <th>2017-10-31</th>\n",
       "      <td>42.67</td>\n",
       "    </tr>\n",
       "    <tr>\n",
       "      <th>2017-11-30</th>\n",
       "      <td>44.58</td>\n",
       "    </tr>\n",
       "    <tr>\n",
       "      <th>2017-12-31</th>\n",
       "      <td>43.00</td>\n",
       "    </tr>\n",
       "    <tr>\n",
       "      <th>2018-01-31</th>\n",
       "      <td>42.08</td>\n",
       "    </tr>\n",
       "    <tr>\n",
       "      <th>2018-02-28</th>\n",
       "      <td>44.71</td>\n",
       "    </tr>\n",
       "    <tr>\n",
       "      <th>2018-03-31</th>\n",
       "      <td>42.84</td>\n",
       "    </tr>\n",
       "    <tr>\n",
       "      <th>2018-04-30</th>\n",
       "      <td>43.60</td>\n",
       "    </tr>\n",
       "    <tr>\n",
       "      <th>2018-05-31</th>\n",
       "      <td>43.24</td>\n",
       "    </tr>\n",
       "    <tr>\n",
       "      <th>2018-06-30</th>\n",
       "      <td>42.90</td>\n",
       "    </tr>\n",
       "    <tr>\n",
       "      <th>2018-07-31</th>\n",
       "      <td>44.08</td>\n",
       "    </tr>\n",
       "    <tr>\n",
       "      <th>2018-08-31</th>\n",
       "      <td>43.29</td>\n",
       "    </tr>\n",
       "    <tr>\n",
       "      <th>2018-09-30</th>\n",
       "      <td>44.69</td>\n",
       "    </tr>\n",
       "    <tr>\n",
       "      <th>2018-10-31</th>\n",
       "      <td>44.39</td>\n",
       "    </tr>\n",
       "    <tr>\n",
       "      <th>2018-11-30</th>\n",
       "      <td>43.31</td>\n",
       "    </tr>\n",
       "    <tr>\n",
       "      <th>2018-12-31</th>\n",
       "      <td>44.58</td>\n",
       "    </tr>\n",
       "    <tr>\n",
       "      <th>2019-01-31</th>\n",
       "      <td>42.70</td>\n",
       "    </tr>\n",
       "    <tr>\n",
       "      <th>2019-02-28</th>\n",
       "      <td>44.04</td>\n",
       "    </tr>\n",
       "    <tr>\n",
       "      <th>2019-03-31</th>\n",
       "      <td>44.25</td>\n",
       "    </tr>\n",
       "    <tr>\n",
       "      <th>2019-04-30</th>\n",
       "      <td>42.78</td>\n",
       "    </tr>\n",
       "    <tr>\n",
       "      <th>2019-05-31</th>\n",
       "      <td>43.97</td>\n",
       "    </tr>\n",
       "    <tr>\n",
       "      <th>2019-06-30</th>\n",
       "      <td>43.27</td>\n",
       "    </tr>\n",
       "    <tr>\n",
       "      <th>2019-07-31</th>\n",
       "      <td>42.63</td>\n",
       "    </tr>\n",
       "    <tr>\n",
       "      <th>2019-08-31</th>\n",
       "      <td>44.19</td>\n",
       "    </tr>\n",
       "    <tr>\n",
       "      <th>2019-09-30</th>\n",
       "      <td>43.28</td>\n",
       "    </tr>\n",
       "    <tr>\n",
       "      <th>2019-10-31</th>\n",
       "      <td>44.56</td>\n",
       "    </tr>\n",
       "    <tr>\n",
       "      <th>2019-11-30</th>\n",
       "      <td>43.28</td>\n",
       "    </tr>\n",
       "    <tr>\n",
       "      <th>2019-12-31</th>\n",
       "      <td>43.31</td>\n",
       "    </tr>\n",
       "    <tr>\n",
       "      <th>2020-01-31</th>\n",
       "      <td>44.60</td>\n",
       "    </tr>\n",
       "    <tr>\n",
       "      <th>2020-02-29</th>\n",
       "      <td>42.85</td>\n",
       "    </tr>\n",
       "    <tr>\n",
       "      <th>2020-03-31</th>\n",
       "      <td>44.13</td>\n",
       "    </tr>\n",
       "    <tr>\n",
       "      <th>2020-04-30</th>\n",
       "      <td>44.61</td>\n",
       "    </tr>\n",
       "    <tr>\n",
       "      <th>2020-05-31</th>\n",
       "      <td>42.52</td>\n",
       "    </tr>\n",
       "    <tr>\n",
       "      <th>2020-06-30</th>\n",
       "      <td>44.02</td>\n",
       "    </tr>\n",
       "    <tr>\n",
       "      <th>2020-07-31</th>\n",
       "      <td>43.40</td>\n",
       "    </tr>\n",
       "    <tr>\n",
       "      <th>2020-08-31</th>\n",
       "      <td>43.98</td>\n",
       "    </tr>\n",
       "    <tr>\n",
       "      <th>2020-09-30</th>\n",
       "      <td>43.78</td>\n",
       "    </tr>\n",
       "    <tr>\n",
       "      <th>2020-10-31</th>\n",
       "      <td>43.40</td>\n",
       "    </tr>\n",
       "    <tr>\n",
       "      <th>2020-11-30</th>\n",
       "      <td>44.58</td>\n",
       "    </tr>\n",
       "    <tr>\n",
       "      <th>2020-12-31</th>\n",
       "      <td>43.04</td>\n",
       "    </tr>\n",
       "  </tbody>\n",
       "</table>\n",
       "</div>"
      ],
      "text/plain": [
       "            Demand\n",
       "2017-03-31   43.22\n",
       "2017-04-30   43.73\n",
       "2017-05-31   43.27\n",
       "2017-06-30   43.64\n",
       "2017-07-31   45.40\n",
       "2017-08-31   43.87\n",
       "2017-09-30   43.87\n",
       "2017-10-31   42.67\n",
       "2017-11-30   44.58\n",
       "2017-12-31   43.00\n",
       "2018-01-31   42.08\n",
       "2018-02-28   44.71\n",
       "2018-03-31   42.84\n",
       "2018-04-30   43.60\n",
       "2018-05-31   43.24\n",
       "2018-06-30   42.90\n",
       "2018-07-31   44.08\n",
       "2018-08-31   43.29\n",
       "2018-09-30   44.69\n",
       "2018-10-31   44.39\n",
       "2018-11-30   43.31\n",
       "2018-12-31   44.58\n",
       "2019-01-31   42.70\n",
       "2019-02-28   44.04\n",
       "2019-03-31   44.25\n",
       "2019-04-30   42.78\n",
       "2019-05-31   43.97\n",
       "2019-06-30   43.27\n",
       "2019-07-31   42.63\n",
       "2019-08-31   44.19\n",
       "2019-09-30   43.28\n",
       "2019-10-31   44.56\n",
       "2019-11-30   43.28\n",
       "2019-12-31   43.31\n",
       "2020-01-31   44.60\n",
       "2020-02-29   42.85\n",
       "2020-03-31   44.13\n",
       "2020-04-30   44.61\n",
       "2020-05-31   42.52\n",
       "2020-06-30   44.02\n",
       "2020-07-31   43.40\n",
       "2020-08-31   43.98\n",
       "2020-09-30   43.78\n",
       "2020-10-31   43.40\n",
       "2020-11-30   44.58\n",
       "2020-12-31   43.04"
      ]
     },
     "execution_count": 40,
     "metadata": {},
     "output_type": "execute_result"
    }
   ],
   "source": [
    "y_predlg"
   ]
  },
  {
   "cell_type": "code",
   "execution_count": 41,
   "id": "aefb19c6",
   "metadata": {
    "ExecuteTime": {
     "end_time": "2024-06-09T23:20:43.813741Z",
     "start_time": "2024-06-09T23:20:43.796756Z"
    }
   },
   "outputs": [
    {
     "data": {
      "text/plain": [
       "0.1756341099442035"
      ]
     },
     "execution_count": 41,
     "metadata": {},
     "output_type": "execute_result"
    }
   ],
   "source": [
    "mape(test,y_predlg)"
   ]
  },
  {
   "cell_type": "code",
   "execution_count": null,
   "id": "26b8c49c",
   "metadata": {},
   "outputs": [],
   "source": []
  }
 ],
 "metadata": {
  "kernelspec": {
   "display_name": "Python 3 (ipykernel)",
   "language": "python",
   "name": "python3"
  },
  "language_info": {
   "codemirror_mode": {
    "name": "ipython",
    "version": 3
   },
   "file_extension": ".py",
   "mimetype": "text/x-python",
   "name": "python",
   "nbconvert_exporter": "python",
   "pygments_lexer": "ipython3",
   "version": "3.9.12"
  }
 },
 "nbformat": 4,
 "nbformat_minor": 5
}
